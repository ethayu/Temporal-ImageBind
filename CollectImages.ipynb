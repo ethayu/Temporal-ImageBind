{
 "cells": [
  {
   "cell_type": "code",
   "execution_count": 2,
   "metadata": {},
   "outputs": [],
   "source": [
    "import cv2\n",
    "import numpy as np\n",
    "import concurrent.futures\n",
    "import os"
   ]
  },
  {
   "cell_type": "code",
   "execution_count": 3,
   "metadata": {},
   "outputs": [],
   "source": [
    "def process_range(exec):\n",
    "  cap = cv2.VideoCapture('../BlackbirdDatasetData/ampersand/yawForward/maxSpeed2p0/Small_Apartment/Camera_Left_RGB/lossless.mov')\n",
    "  nsecs = np.loadtxt('../BlackbirdDatasetData/ampersand/yawForward/maxSpeed2p0/Small_Apartment/Camera_Left_RGB/nSecTimestamps.txt')\n",
    "  for i in range(1534109177000000000, 1534109445000000000, 200000000):\n",
    "    j = i + exec * 100000000\n",
    "    if os.path.isfile(f'data/images/{j}.jpg'):\n",
    "      continue\n",
    "    closest_index = np.abs(nsecs - j).argmin()\n",
    "    cap.set(cv2.CAP_PROP_POS_FRAMES, closest_index)\n",
    "    ret, frame = cap.read()\n",
    "    if ret:\n",
    "      cv2.imwrite(f'data/images/{j}.jpg', frame)\n",
    "  cap.release()\n",
    "\n",
    "# Load timestamps\n",
    "with concurrent.futures.ThreadPoolExecutor(max_workers=20) as executor:\n",
    "  for exec in range(20):\n",
    "    executor.submit(process_range, exec)\n"
   ]
  }
 ],
 "metadata": {
  "kernelspec": {
   "display_name": "Python 3",
   "language": "python",
   "name": "python3"
  },
  "language_info": {
   "codemirror_mode": {
    "name": "ipython",
    "version": 3
   },
   "file_extension": ".py",
   "mimetype": "text/x-python",
   "name": "python",
   "nbconvert_exporter": "python",
   "pygments_lexer": "ipython3",
   "version": "3.8.18"
  }
 },
 "nbformat": 4,
 "nbformat_minor": 2
}
